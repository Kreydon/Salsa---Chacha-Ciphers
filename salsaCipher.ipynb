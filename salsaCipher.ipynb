{
 "cells": [
  {
   "cell_type": "code",
   "execution_count": 1,
   "metadata": {},
   "outputs": [],
   "source": [
    "a = 0xf71d6206\n",
    "b = 0x791bdf60\n",
    "c = 0xb045d99f\n",
    "d = 0x458b06a4"
   ]
  },
  {
   "cell_type": "code",
   "execution_count": 2,
   "metadata": {},
   "outputs": [],
   "source": [
    "def mod32(num):\n",
    "    return num & ((1<<32)-1)"
   ]
  },
  {
   "cell_type": "code",
   "execution_count": 3,
   "metadata": {},
   "outputs": [],
   "source": [
    "def rot(w, r):\n",
    "    return mod32(w << r) | w >> (32 - r)"
   ]
  },
  {
   "cell_type": "code",
   "execution_count": 4,
   "metadata": {},
   "outputs": [],
   "source": [
    "def pad(k, j, n):\n",
    "    pass"
   ]
  },
  {
   "cell_type": "code",
   "execution_count": 5,
   "metadata": {},
   "outputs": [],
   "source": [
    "def QR(a, b, c, d):\n",
    "    b = b ^ rot(mod32(a + d), 7)\n",
    "    c = c ^ rot(mod32(b + a), 9)\n",
    "    d = d ^ rot(mod32(c + b), 13)\n",
    "    a = a ^ rot(mod32(d + c), 18)\n",
    "    return (hex(a), hex(b), hex(c), hex(d))"
   ]
  },
  {
   "cell_type": "code",
   "execution_count": 6,
   "metadata": {},
   "outputs": [
    {
     "name": "stdout",
     "output_type": "stream",
     "text": [
      "('0xe4ebc7f', '0x2d2f8a7e', '0x299cd1d7', '0xce01ac7d')\n"
     ]
    }
   ],
   "source": [
    "print(QR(a, b, c, d))"
   ]
  },
  {
   "cell_type": "code",
   "execution_count": 7,
   "metadata": {},
   "outputs": [],
   "source": [
    "def pi(xs):\n",
    "    i = []\n",
    "    for x in xs:\n",
    "        i.append(x)\n",
    "    for j in range(0, 9, 2):\n",
    "        QR(i[0][0], i[1][0], i[2][0], i[3][0])\n",
    "        QR(i[1][1], i[2][1], i[3][1], i[0][1])\n",
    "        QR(i[2][2], i[3][2], i[0][2], i[1][2])\n",
    "        QR(i[3][3], i[0][3], i[1][3], i[2][3])\n",
    "        QR(i[0][0], i[0][1], i[0][2], i[0][3])\n",
    "        QR(i[1][1], i[1][2], i[1][3], i[1][0])\n",
    "        QR(i[2][2], i[2][3], i[2][0], i[2][1])\n",
    "        QR(i[3][3], i[3][0], i[3][1], i[3][2])\n",
    "    return i"
   ]
  },
  {
   "cell_type": "code",
   "execution_count": 8,
   "metadata": {},
   "outputs": [],
   "source": [
    "def G(k, n):\n",
    "    # L < 2 ** 64\n",
    "    rj = []\n",
    "    for j in range(0, 2 ** 64 - 1):\n",
    "        hj = pad(k, j, n)\n",
    "        pij = pi(hj)\n",
    "        for i in range(0, 16):\n",
    "            rj.append(pij[i] + hj[i])\n",
    "    return rj"
   ]
  }
 ],
 "metadata": {
  "kernelspec": {
   "display_name": "Python 3",
   "language": "python",
   "name": "python3"
  },
  "language_info": {
   "codemirror_mode": {
    "name": "ipython",
    "version": 3
   },
   "file_extension": ".py",
   "mimetype": "text/x-python",
   "name": "python",
   "nbconvert_exporter": "python",
   "pygments_lexer": "ipython3",
   "version": "3.12.0"
  }
 },
 "nbformat": 4,
 "nbformat_minor": 2
}
