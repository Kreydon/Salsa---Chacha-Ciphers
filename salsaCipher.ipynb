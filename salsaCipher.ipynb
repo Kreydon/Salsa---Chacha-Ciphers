{
 "cells": [
  {
   "cell_type": "markdown",
   "metadata": {},
   "source": [
    "## Si lo quisiera trabajar con binario"
   ]
  },
  {
   "cell_type": "code",
   "execution_count": 32,
   "metadata": {},
   "outputs": [],
   "source": [
    "dic_hex = {'0':'0000', '1':'0001', '2':'0010', '3':'0011', '4':'0100', '5':'0101', '6':'0110', '7':'0111',\n",
    "           '8':'1000', '9':'1001', 'a':'1010', 'b':'1011', 'c':'1100', 'd':'1101', 'e':'1110', 'f':'1111'}"
   ]
  },
  {
   "cell_type": "code",
   "execution_count": 33,
   "metadata": {},
   "outputs": [],
   "source": [
    "def hex_bin(hex):\n",
    "    binario = []\n",
    "    for i in hex:\n",
    "        if i in dic_hex:\n",
    "            binario.append(dic_hex[i])\n",
    "    bin_ = ''.join(binario)\n",
    "    return bin_"
   ]
  },
  {
   "cell_type": "code",
   "execution_count": 34,
   "metadata": {},
   "outputs": [],
   "source": [
    "def separador(k):\n",
    "    return [k[i:i+32] for i in range(0, len(k), 32)]"
   ]
  },
  {
   "cell_type": "code",
   "execution_count": 35,
   "metadata": {},
   "outputs": [],
   "source": [
    "s = '47f515b1dd45f8d5aceea73b52971be21f7b4b3355a35fd6a2799898ed2f8c97'\n",
    "j = '722d9d570ac23201'\n",
    "n = 'ed539cd99e1d2f20'\n",
    "\n",
    "s = hex_bin(s)\n",
    "j = hex_bin(j)\n",
    "n = hex_bin(n)\n",
    "\n",
    "s32 = separador(s)\n",
    "j32 = separador(j)\n",
    "n32 = separador(n)    "
   ]
  },
  {
   "cell_type": "markdown",
   "metadata": {},
   "source": [
    "## Sin binario"
   ]
  },
  {
   "cell_type": "code",
   "execution_count": 36,
   "metadata": {},
   "outputs": [],
   "source": [
    "def separador(k):\n",
    "    return [k[i:i+8] for i in range(0, len(k), 8)]"
   ]
  },
  {
   "cell_type": "code",
   "execution_count": 37,
   "metadata": {},
   "outputs": [],
   "source": [
    "s = '47f515b1dd45f8d5aceea73b52971be21f7b4b3355a35fd6a2799898ed2f8c97'\n",
    "j = '722d9d570ac23201'\n",
    "n = 'ed539cd99e1d2f20'\n",
    "\n",
    "s32 = separador(s)\n",
    "j32 = separador(j)\n",
    "n32 = separador(n)"
   ]
  },
  {
   "cell_type": "code",
   "execution_count": 38,
   "metadata": {},
   "outputs": [],
   "source": [
    "def ch(valor): # convertir_a_hexadecimal\n",
    "    return int(valor, 16)"
   ]
  },
  {
   "cell_type": "code",
   "execution_count": 39,
   "metadata": {},
   "outputs": [
    {
     "data": {
      "text/plain": [
       "[['61707865', '47f515b1', 'dd45f8d5', 'aceea73b'],\n",
       " ['52971be2', '3320646e', 'ed539cd9', '9e1d2f20'],\n",
       " ['722d9d57', '0ac23201', '79622d32', '1f7b4b33'],\n",
       " ['55a35fd6', 'a2799898', 'ed2f8c97', '6b206574']]"
      ]
     },
     "execution_count": 39,
     "metadata": {},
     "output_type": "execute_result"
    }
   ],
   "source": [
    "def prev_pad(s, j, n):\n",
    "    c = ['61707865', '3320646e', '79622d32', '6b206574']\n",
    "    x = [[c[0], s[0], s[1], s[2]],\n",
    "         [s[3], c[1], n[0], n[1]],\n",
    "         [j[0], j[1], c[2], s[4]],\n",
    "         [s[5], s[6], s[7], c[3]]]\n",
    "    return x\n",
    "prev_pad(s32, j32, n32)"
   ]
  },
  {
   "cell_type": "code",
   "execution_count": 40,
   "metadata": {},
   "outputs": [],
   "source": [
    "def pad(s, j, n):\n",
    "    c = ['61707865', '3320646e', '79622d32', '6b206574']\n",
    "    x = [[ch(c[0]), ch(s[0]), ch(s[1]), ch(s[2])],\n",
    "         [ch(s[3]), ch(c[1]), ch(n[0]), ch(n[1])],\n",
    "         [ch(j[0]), ch(j[1]), ch(c[2]), ch(s[4])],\n",
    "         [ch(s[5]), ch(s[6]), ch(s[7]), ch(c[3])]]\n",
    "    return x"
   ]
  },
  {
   "cell_type": "code",
   "execution_count": 41,
   "metadata": {},
   "outputs": [],
   "source": [
    "def convertir_a_string(valor):\n",
    "    return valor[2:]"
   ]
  },
  {
   "cell_type": "code",
   "execution_count": 42,
   "metadata": {},
   "outputs": [
    {
     "name": "stdout",
     "output_type": "stream",
     "text": [
      "00003039\n"
     ]
    }
   ],
   "source": [
    "def completar_con_ceros(hex_str):\n",
    "    if len(hex_str) < 8:\n",
    "        ceros_faltantes = 8 - len(hex_str)\n",
    "        hex_str = '0' * ceros_faltantes + hex_str\n",
    "    return hex_str\n",
    "\n",
    "# Ejemplo de uso:\n",
    "numero_entero = 12345\n",
    "hexadecimal = hex(numero_entero)\n",
    "hex_str = convertir_a_string(hexadecimal)\n",
    "hex_str_completo = completar_con_ceros(hex_str)\n",
    "print(hex_str_completo)  # Imprime el string con ceros a la izquierda si es necesario\n"
   ]
  },
  {
   "cell_type": "code",
   "execution_count": 43,
   "metadata": {},
   "outputs": [],
   "source": [
    "def make_usable_hex(elem):\n",
    "    hex_str = convertir_a_string(hex(elem))\n",
    "    if len(hex_str) < 8:\n",
    "        ceros_faltantes = 8 - len(convertir_a_string(hex(elem)))\n",
    "        hex_str = '0' * ceros_faltantes + hex_str\n",
    "    return hex_str"
   ]
  },
  {
   "cell_type": "code",
   "execution_count": 44,
   "metadata": {},
   "outputs": [],
   "source": [
    "a = 0xc2619378\n",
    "b = 0xecdaec96\n",
    "c = 0xe62bd0c8\n",
    "d = 0x2b61be56"
   ]
  },
  {
   "cell_type": "code",
   "execution_count": 45,
   "metadata": {},
   "outputs": [],
   "source": [
    "def mod32(num):\n",
    "    return num & ((1<<32)-1)"
   ]
  },
  {
   "cell_type": "code",
   "execution_count": 46,
   "metadata": {},
   "outputs": [],
   "source": [
    "def rot(w, r):\n",
    "    return mod32(w << r) | w >> (32 - r)"
   ]
  },
  {
   "cell_type": "code",
   "execution_count": 47,
   "metadata": {},
   "outputs": [],
   "source": [
    "def QR(a, b, c, d):\n",
    "    b = b ^ rot(mod32(a + d), 7)\n",
    "    c = c ^ rot(mod32(b + a), 9)\n",
    "    d = d ^ rot(mod32(c + b), 13)\n",
    "    a = a ^ rot(mod32(d + c), 18)\n",
    "    return (a, b, c, d)"
   ]
  },
  {
   "cell_type": "code",
   "execution_count": 48,
   "metadata": {},
   "outputs": [
    {
     "name": "stdout",
     "output_type": "stream",
     "text": [
      "- a = 21158c0a\n",
      "- b = 0d720be0\n",
      "- c = 41156157\n",
      "- d = c6c75786\n"
     ]
    }
   ],
   "source": [
    "na, nb, nc, nd = QR(a, b, c, d)\n",
    "\n",
    "print(f\"- a = {make_usable_hex(na)}\")\n",
    "print(f\"- b = {make_usable_hex(nb)}\")\n",
    "print(f\"- c = {make_usable_hex(nc)}\")\n",
    "print(f\"- d = {make_usable_hex(nd)}\")\n",
    "\n"
   ]
  },
  {
   "cell_type": "code",
   "execution_count": 49,
   "metadata": {},
   "outputs": [],
   "source": [
    "def show_hex(i):\n",
    "    hex_i = []\n",
    "    for row in i:\n",
    "        for elem in row:\n",
    "            hex_i.append(make_usable_hex(elem))\n",
    "    return hex_i"
   ]
  },
  {
   "cell_type": "code",
   "execution_count": 50,
   "metadata": {},
   "outputs": [],
   "source": [
    "def pi(x):\n",
    "    i = x\n",
    "    for _ in range(0, 20, 2):\n",
    "        if (_ == 8):\n",
    "            print(f\"\"\"Cuando j = 8\n",
    "- Previo ronda:\n",
    "  - i5 = {make_usable_hex(i[1][1])}\n",
    "  - i9 = {make_usable_hex(i[2][1])}\n",
    "  - i12 = {make_usable_hex(i[3][0])}\"\"\")\n",
    "        elif (_ == 14):\n",
    "            print(f\"\"\"\\nCuando j = 14\n",
    "- Previo ronda:\n",
    "  - i3 = {make_usable_hex(i[0][3])}\n",
    "  - i4 = {make_usable_hex(i[1][0])}\n",
    "  - i10 = {make_usable_hex(i[2][2])}\"\"\")\n",
    "            \n",
    "        i[0][0], i[1][0], i[2][0], i[3][0] = QR(i[0][0], i[1][0], i[2][0], i[3][0])\n",
    "        i[1][1], i[2][1], i[3][1], i[0][1] = QR(i[1][1], i[2][1], i[3][1], i[0][1])\n",
    "        i[2][2], i[3][2], i[0][2], i[1][2] = QR(i[2][2], i[3][2], i[0][2], i[1][2])\n",
    "        i[3][3], i[0][3], i[1][3], i[2][3] = QR(i[3][3], i[0][3], i[1][3], i[2][3])\n",
    "        i[0][0], i[0][1], i[0][2], i[0][3] = QR(i[0][0], i[0][1], i[0][2], i[0][3])\n",
    "        i[1][1], i[1][2], i[1][3], i[1][0] = QR(i[1][1], i[1][2], i[1][3], i[1][0])\n",
    "        i[2][2], i[2][3], i[2][0], i[2][1] = QR(i[2][2], i[2][3], i[2][0], i[2][1])\n",
    "        i[3][3], i[3][0], i[3][1], i[3][2] = QR(i[3][3], i[3][0], i[3][1], i[3][2])\n",
    "        \n",
    "        if (_ == 8):\n",
    "            print(f\"\"\"\\n- Post ronda:\n",
    "  - i5 = {make_usable_hex(i[1][1])}\n",
    "  - i9 = {make_usable_hex(i[2][1])}\n",
    "  - i12 = {make_usable_hex(i[3][0])}\"\"\")\n",
    "        elif (_ == 14):\n",
    "            print(f\"\"\"\\n- Post ronda:\n",
    "  - i3 = {make_usable_hex(i[0][3])}\n",
    "  - i4 = {make_usable_hex(i[1][0])}\n",
    "  - i10 = {make_usable_hex(i[2][2])}\"\"\")\n",
    "    \n",
    "    print(\"\\nPermutacion final\")\n",
    "    print(f\"pi = {show_hex(i)}\")\n",
    "    print(f\"pi = {''.join(show_hex(i))}\")\n",
    "    return i"
   ]
  },
  {
   "cell_type": "code",
   "execution_count": 51,
   "metadata": {},
   "outputs": [
    {
     "name": "stdout",
     "output_type": "stream",
     "text": [
      "Cuando j = 8\n",
      "- Previo ronda:\n",
      "  - i5 = 433301ba\n",
      "  - i9 = ef6fc57b\n",
      "  - i12 = 94bcfac0\n",
      "\n",
      "- Post ronda:\n",
      "  - i5 = 58620a69\n",
      "  - i9 = a82bffb0\n",
      "  - i12 = 31ab1c3f\n",
      "\n",
      "Cuando j = 14\n",
      "- Previo ronda:\n",
      "  - i3 = 28e943a4\n",
      "  - i4 = 2cc679b7\n",
      "  - i10 = 86bca5d9\n",
      "\n",
      "- Post ronda:\n",
      "  - i3 = 31c5e52a\n",
      "  - i4 = a37131ce\n",
      "  - i10 = a8a0f45f\n",
      "\n",
      "Permutacion final\n",
      "pi = ['4ae1c9a7', 'e960b635', 'dc60a70e', '05f3a06b', '6d5333b8', '53e0b60d', '7fe901e0', '82891498', '20c71b7f', '7bf63cd6', '92229875', '10bb6060', '8551ec51', 'c1e23b31', 'da929437', 'ccb2cb58']\n",
      "pi = 4ae1c9a7e960b635dc60a70e05f3a06b6d5333b853e0b60d7fe901e08289149820c71b7f7bf63cd69222987510bb60608551ec51c1e23b31da929437ccb2cb58\n"
     ]
    }
   ],
   "source": [
    "p = pad(s32, j32, n32)\n",
    "pis = pi(p)"
   ]
  }
 ],
 "metadata": {
  "kernelspec": {
   "display_name": "Python 3",
   "language": "python",
   "name": "python3"
  },
  "language_info": {
   "codemirror_mode": {
    "name": "ipython",
    "version": 3
   },
   "file_extension": ".py",
   "mimetype": "text/x-python",
   "name": "python",
   "nbconvert_exporter": "python",
   "pygments_lexer": "ipython3",
   "version": "3.12.0"
  }
 },
 "nbformat": 4,
 "nbformat_minor": 2
}
