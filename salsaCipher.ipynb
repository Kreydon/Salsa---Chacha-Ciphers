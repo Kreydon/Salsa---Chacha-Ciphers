{
 "cells": [
  {
   "cell_type": "markdown",
   "metadata": {},
   "source": [
    "## Si lo quisiera trabajar con binario"
   ]
  },
  {
   "cell_type": "code",
   "execution_count": 1,
   "metadata": {},
   "outputs": [],
   "source": [
    "dic_hex = {'0':'0000', '1':'0001', '2':'0010', '3':'0011', '4':'0100', '5':'0101', '6':'0110', '7':'0111',\n",
    "           '8':'1000', '9':'1001', 'a':'1010', 'b':'1011', 'c':'1100', 'd':'1101', 'e':'1110', 'f':'1111'}"
   ]
  },
  {
   "cell_type": "code",
   "execution_count": 2,
   "metadata": {},
   "outputs": [],
   "source": [
    "def hex_bin(hex):\n",
    "    binario = []\n",
    "    for i in hex:\n",
    "        if i in dic_hex:\n",
    "            binario.append(dic_hex[i])\n",
    "    bin_ = ''.join(binario)\n",
    "    return bin_"
   ]
  },
  {
   "cell_type": "code",
   "execution_count": 3,
   "metadata": {},
   "outputs": [],
   "source": [
    "def separador(k):\n",
    "    return [k[i:i+32] for i in range(0, len(k), 32)]"
   ]
  },
  {
   "cell_type": "code",
   "execution_count": 4,
   "metadata": {},
   "outputs": [],
   "source": [
    "s = '47f515b1dd45f8d5aceea73b52971be21f7b4b3355a35fd6a2799898ed2f8c97'\n",
    "j = '722d9d570ac23201'\n",
    "n = 'ed539cd99e1d2f20'\n",
    "\n",
    "s = hex_bin(s)\n",
    "j = hex_bin(j)\n",
    "n = hex_bin(n)\n",
    "\n",
    "s32 = separador(s)\n",
    "j32 = separador(j)\n",
    "n32 = separador(n)    "
   ]
  },
  {
   "cell_type": "markdown",
   "metadata": {},
   "source": [
    "## Sin binario"
   ]
  },
  {
   "cell_type": "code",
   "execution_count": 5,
   "metadata": {},
   "outputs": [],
   "source": [
    "def separador(k):\n",
    "    return [k[i:i+8] for i in range(0, len(k), 8)]"
   ]
  },
  {
   "cell_type": "code",
   "execution_count": 6,
   "metadata": {},
   "outputs": [],
   "source": [
    "a = 0xf71d6206\n",
    "b = 0x791bdf60\n",
    "c = 0xb045d99f\n",
    "d = 0x458b06a4"
   ]
  },
  {
   "cell_type": "code",
   "execution_count": 7,
   "metadata": {},
   "outputs": [],
   "source": [
    "s = '47f515b1dd45f8d5aceea73b52971be21f7b4b3355a35fd6a2799898ed2f8c97'\n",
    "j = '722d9d570ac23201'\n",
    "n = 'ed539cd99e1d2f20'\n",
    "\n",
    "s32 = separador(s)\n",
    "j32 = separador(j)\n",
    "n32 = separador(n)"
   ]
  },
  {
   "cell_type": "code",
   "execution_count": 8,
   "metadata": {},
   "outputs": [
    {
     "name": "stdout",
     "output_type": "stream",
     "text": [
      "[['61707865', '47f515b1', 'dd45f8d5', 'aceea73b'], ['52971be2', '3320646e', 'ed539cd9', '9e1d2f20'], ['722d9d57', '0ac23201', '79622d32', '1f7b4b33'], ['55a35fd6', 'a2799898', 'ed2f8c97', '6b206574']]\n"
     ]
    }
   ],
   "source": [
    "def pad(s, j, n):\n",
    "    c = ['61707865', '3320646e', '79622d32', '6b206574']\n",
    "    x = [[c[0], s[0], s[1], s[2]],\n",
    "         [s[3], c[1], n[0], n[1]],\n",
    "         [j[0], j[1], c[2], s[4]],\n",
    "         [s[5], s[6], s[7], c[3]]]\n",
    "    return x\n",
    "\n",
    "print(pad(s32, j32, n32))"
   ]
  },
  {
   "cell_type": "code",
   "execution_count": 9,
   "metadata": {},
   "outputs": [],
   "source": [
    "def convertir_a_string(valor):\n",
    "    return valor[2:]"
   ]
  },
  {
   "cell_type": "code",
   "execution_count": 23,
   "metadata": {},
   "outputs": [],
   "source": [
    "a = 0xc2619378\n",
    "b = 0xecdaec96\n",
    "c = 0xe62bd0c8\n",
    "d = 0x2b61be56"
   ]
  },
  {
   "cell_type": "code",
   "execution_count": 11,
   "metadata": {},
   "outputs": [],
   "source": [
    "def mod32(num):\n",
    "    return num & ((1<<32)-1)"
   ]
  },
  {
   "cell_type": "code",
   "execution_count": 12,
   "metadata": {},
   "outputs": [],
   "source": [
    "def rot(w, r):\n",
    "    return mod32(w << r) | w >> (32 - r)"
   ]
  },
  {
   "cell_type": "code",
   "execution_count": 13,
   "metadata": {},
   "outputs": [],
   "source": [
    "def QR(a, b, c, d):\n",
    "    b = b ^ rot(mod32(a + d), 7)\n",
    "    c = c ^ rot(mod32(b + a), 9)\n",
    "    d = d ^ rot(mod32(c + b), 13)\n",
    "    a = a ^ rot(mod32(d + c), 18)\n",
    "    return (convertir_a_string(hex(a)), convertir_a_string(hex(b)), convertir_a_string(hex(c)), convertir_a_string(hex(d)))"
   ]
  },
  {
   "cell_type": "code",
   "execution_count": 24,
   "metadata": {},
   "outputs": [
    {
     "name": "stdout",
     "output_type": "stream",
     "text": [
      "('21158c0a', 'd720be0', '41156157', 'c6c75786')\n"
     ]
    }
   ],
   "source": [
    "print(QR(a, b, c, d))"
   ]
  },
  {
   "cell_type": "code",
   "execution_count": null,
   "metadata": {},
   "outputs": [],
   "source": [
    "def pi(xs):\n",
    "    i = []\n",
    "    for x in xs:\n",
    "        i.append(x)\n",
    "    for j in range(0, 9, 2):\n",
    "        QR(i[0][0], i[1][0], i[2][0], i[3][0])\n",
    "        QR(i[1][1], i[2][1], i[3][1], i[0][1])\n",
    "        QR(i[2][2], i[3][2], i[0][2], i[1][2])\n",
    "        QR(i[3][3], i[0][3], i[1][3], i[2][3])\n",
    "        QR(i[0][0], i[0][1], i[0][2], i[0][3])\n",
    "        QR(i[1][1], i[1][2], i[1][3], i[1][0])\n",
    "        QR(i[2][2], i[2][3], i[2][0], i[2][1])\n",
    "        QR(i[3][3], i[3][0], i[3][1], i[3][2])\n",
    "    return i"
   ]
  },
  {
   "cell_type": "code",
   "execution_count": null,
   "metadata": {},
   "outputs": [],
   "source": [
    "def G(k, n):\n",
    "    # L < 2 ** 64\n",
    "    rj = []\n",
    "    for j in range(0, 2 ** 64 - 1):\n",
    "        hj = pad(k, j, n)\n",
    "        pij = pi(hj)\n",
    "        for i in range(0, 16):\n",
    "            rj.append(pij[i] + hj[i])\n",
    "    return rj"
   ]
  }
 ],
 "metadata": {
  "kernelspec": {
   "display_name": "Python 3",
   "language": "python",
   "name": "python3"
  },
  "language_info": {
   "codemirror_mode": {
    "name": "ipython",
    "version": 3
   },
   "file_extension": ".py",
   "mimetype": "text/x-python",
   "name": "python",
   "nbconvert_exporter": "python",
   "pygments_lexer": "ipython3",
   "version": "3.12.0"
  }
 },
 "nbformat": 4,
 "nbformat_minor": 2
}
