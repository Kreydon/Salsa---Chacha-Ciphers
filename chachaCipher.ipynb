{
 "cells": [
  {
   "cell_type": "code",
   "execution_count": 8,
   "metadata": {},
   "outputs": [],
   "source": [
    "a = 0xf71d6206\n",
    "b = 0x791bdf60\n",
    "c = 0xb045d99f\n",
    "d = 0x458b06a4"
   ]
  },
  {
   "cell_type": "code",
   "execution_count": 9,
   "metadata": {},
   "outputs": [],
   "source": [
    "def mod32(num):\n",
    "    return num & ((1<<32)-1)"
   ]
  },
  {
   "cell_type": "code",
   "execution_count": 10,
   "metadata": {},
   "outputs": [],
   "source": [
    "def rot(w, r):\n",
    "    return mod32(w << r) | w >> (32 - r)"
   ]
  },
  {
   "cell_type": "code",
   "execution_count": 11,
   "metadata": {},
   "outputs": [],
   "source": [
    "def pad(k, j, n):\n",
    "    pass"
   ]
  },
  {
   "cell_type": "code",
   "execution_count": 12,
   "metadata": {},
   "outputs": [],
   "source": [
    "def QR(a, b, c, d):\n",
    "    a = mod32(a + b); d = d ^ a; d = rot(d, 16)\n",
    "    c = mod32(c + d); b = b ^ c; d = rot(b, 12)\n",
    "    a = mod32(a + b); d = d ^ a; d = rot(d, 8)\n",
    "    c = mod32(c + d); b = b ^ c; d = rot(b, 7)\n",
    "    return (hex(a), hex(b), hex(c), hex(d))\n"
   ]
  },
  {
   "cell_type": "code",
   "execution_count": 13,
   "metadata": {},
   "outputs": [
    {
     "name": "stdout",
     "output_type": "stream",
     "text": [
      "('0xf14d1197', '0xc702462c', '0x4611961d', '0x81231663')\n"
     ]
    }
   ],
   "source": [
    "print(QR(a, b, c, d))"
   ]
  },
  {
   "cell_type": "code",
   "execution_count": 14,
   "metadata": {},
   "outputs": [],
   "source": [
    "def pi(xs):\n",
    "    i = []\n",
    "    for x in xs:\n",
    "        i.append(x)\n",
    "    for j in range(0, 9, 2):\n",
    "        QR(i[0][0], i[1][0], i[2][0], i[3][0])\n",
    "        QR(i[0][1], i[1][1], i[2][1], i[3][1])\n",
    "        QR(i[0][2], i[1][2], i[2][2], i[3][2])\n",
    "        QR(i[0][3], i[1][3], i[2][3], i[3][3])\n",
    "        QR(i[0][0], i[1][1], i[2][2], i[3][3])\n",
    "        QR(i[0][1], i[1][2], i[2][3], i[3][0])\n",
    "        QR(i[0][2], i[1][3], i[2][0], i[3][1])\n",
    "        QR(i[0][3], i[1][0], i[2][1], i[3][2])\n",
    "    return i    "
   ]
  },
  {
   "cell_type": "code",
   "execution_count": 15,
   "metadata": {},
   "outputs": [],
   "source": [
    "def G(k, n):\n",
    "    # L < 2 ** 64\n",
    "    rj = []\n",
    "    for j in range(0, 2 ** 64 - 1):\n",
    "        hj = pad(k, j, n)\n",
    "        pij = pi(hj)\n",
    "        for i in range(0, 16):\n",
    "            rj.append(pij[i] + hj[i])\n",
    "    return rj"
   ]
  }
 ],
 "metadata": {
  "kernelspec": {
   "display_name": "Python 3",
   "language": "python",
   "name": "python3"
  },
  "language_info": {
   "codemirror_mode": {
    "name": "ipython",
    "version": 3
   },
   "file_extension": ".py",
   "mimetype": "text/x-python",
   "name": "python",
   "nbconvert_exporter": "python",
   "pygments_lexer": "ipython3",
   "version": "3.12.0"
  }
 },
 "nbformat": 4,
 "nbformat_minor": 2
}
