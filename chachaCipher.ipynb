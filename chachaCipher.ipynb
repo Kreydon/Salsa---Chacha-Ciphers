{
 "cells": [
  {
   "cell_type": "code",
   "execution_count": 1,
   "metadata": {},
   "outputs": [],
   "source": [
    "def separador(k):\n",
    "    return [k[i:i+8] for i in range(0, len(k), 8)]"
   ]
  },
  {
   "cell_type": "code",
   "execution_count": 2,
   "metadata": {},
   "outputs": [],
   "source": [
    "s = '47f515b1dd45f8d5aceea73b52971be21f7b4b3355a35fd6a2799898ed2f8c97'\n",
    "j = '722d9d570ac23201'\n",
    "n = 'ed539cd99e1d2f20'\n",
    "\n",
    "s32 = separador(s)\n",
    "j32 = separador(j)\n",
    "n32 = separador(n)"
   ]
  },
  {
   "cell_type": "code",
   "execution_count": 3,
   "metadata": {},
   "outputs": [],
   "source": [
    "def ch(valor): # convertir_a_hexadecimal\n",
    "    return int(valor, 16)"
   ]
  },
  {
   "cell_type": "code",
   "execution_count": 4,
   "metadata": {},
   "outputs": [
    {
     "data": {
      "text/plain": [
       "[['61707865', '3320646e', '79622d32', '6b206574'],\n",
       " ['47f515b1', 'dd45f8d5', 'aceea73b', '52971be2'],\n",
       " ['1f7b4b33', '55a35fd6', 'a2799898', 'ed2f8c97'],\n",
       " ['722d9d57', '0ac23201', 'ed539cd9', '9e1d2f20']]"
      ]
     },
     "execution_count": 4,
     "metadata": {},
     "output_type": "execute_result"
    }
   ],
   "source": [
    "def pre_pad(s, j, n):\n",
    "    c = ['61707865', '3320646e', '79622d32', '6b206574']\n",
    "    x = [[c[0], c[1], c[2], c[3]],\n",
    "         [s[0], s[1], s[2], s[3]],\n",
    "         [s[4], s[5], s[6], s[7]],\n",
    "         [j[0], j[1], n[0], n[1]]]\n",
    "    return x\n",
    "pre_pad(s32, j32, n32)"
   ]
  },
  {
   "cell_type": "code",
   "execution_count": 5,
   "metadata": {},
   "outputs": [],
   "source": [
    "def pad(s, j, n):\n",
    "    c = ['61707865', '3320646e', '79622d32', '6b206574']\n",
    "    x = [[ch(c[0]), ch(c[1]), ch(c[2]), ch(c[3])],\n",
    "         [ch(s[0]), ch(s[1]), ch(s[2]), ch(s[3])],\n",
    "         [ch(s[4]), ch(s[5]), ch(s[6]), ch(s[7])],\n",
    "         [ch(j[0]), ch(j[1]), ch(n[0]), ch(n[1])]]\n",
    "    return x"
   ]
  },
  {
   "cell_type": "code",
   "execution_count": 6,
   "metadata": {},
   "outputs": [],
   "source": [
    "def convertir_a_string(valor):\n",
    "    return valor[2:]"
   ]
  },
  {
   "cell_type": "code",
   "execution_count": 7,
   "metadata": {},
   "outputs": [],
   "source": [
    "def make_usable_hex(elem):\n",
    "    hex_str = convertir_a_string(hex(elem))\n",
    "    if len(hex_str) < 8:\n",
    "        ceros_faltantes = 8 - len(convertir_a_string(hex(elem)))\n",
    "        hex_str = '0' * ceros_faltantes + hex_str\n",
    "    return hex_str"
   ]
  },
  {
   "cell_type": "code",
   "execution_count": 8,
   "metadata": {},
   "outputs": [],
   "source": [
    "a = 0xc2619378\n",
    "b = 0xecdaec96\n",
    "c = 0xe62bd0c8\n",
    "d = 0x2b61be56"
   ]
  },
  {
   "cell_type": "code",
   "execution_count": 9,
   "metadata": {},
   "outputs": [],
   "source": [
    "def mod32(num):\n",
    "    return num & ((1<<32)-1)"
   ]
  },
  {
   "cell_type": "code",
   "execution_count": 10,
   "metadata": {},
   "outputs": [],
   "source": [
    "def rot(w, r):\n",
    "    return mod32(w << r) | w >> (32 - r)"
   ]
  },
  {
   "cell_type": "code",
   "execution_count": 11,
   "metadata": {},
   "outputs": [],
   "source": [
    "def QR(a, b, c, d):\n",
    "    a = mod32(a + b); d = d ^ a; d = rot(d, 16)\n",
    "    c = mod32(c + d); b = b ^ c; b = rot(b, 12)\n",
    "    a = mod32(a + b); d = d ^ a; d = rot(d, 8)\n",
    "    c = mod32(c + d); b = b ^ c; b = rot(b, 7)\n",
    "    return (a, b, c, d)\n"
   ]
  },
  {
   "cell_type": "code",
   "execution_count": 12,
   "metadata": {},
   "outputs": [
    {
     "name": "stdout",
     "output_type": "stream",
     "text": [
      "- a = 9ad7bc93\n",
      "- b = 130fa62c\n",
      "- c = b3bd23c9\n",
      "- d = 8f38cea4\n"
     ]
    }
   ],
   "source": [
    "na, nb, nc, nd = QR(a, b, c, d)\n",
    "\n",
    "print(f\"- a = {make_usable_hex(na)}\")\n",
    "print(f\"- b = {make_usable_hex(nb)}\")\n",
    "print(f\"- c = {make_usable_hex(nc)}\")\n",
    "print(f\"- d = {make_usable_hex(nd)}\")"
   ]
  },
  {
   "cell_type": "code",
   "execution_count": 13,
   "metadata": {},
   "outputs": [],
   "source": [
    "def show_hex(i):\n",
    "    hex_i = []\n",
    "    for row in i:\n",
    "        for elem in row:\n",
    "            hex_i.append(make_usable_hex(elem))\n",
    "    return hex_i"
   ]
  },
  {
   "cell_type": "code",
   "execution_count": 14,
   "metadata": {},
   "outputs": [],
   "source": [
    "def pi(x):\n",
    "    i = x\n",
    "    for _ in range(0, 20, 2):\n",
    "        if (_ == 8):\n",
    "            print(f\"\"\"Cuando j = 8\n",
    "- Previo ronda:\n",
    "  - i5 = {make_usable_hex(i[1][1])}\n",
    "  - i9 = {make_usable_hex(i[2][1])}\n",
    "  - i12 = {make_usable_hex(i[3][0])}\"\"\")\n",
    "        elif (_ == 14):\n",
    "            print(f\"\"\"\\nCuando j = 14\n",
    "- Previo ronda:\n",
    "  - i3 = {make_usable_hex(i[0][3])}\n",
    "  - i4 = {make_usable_hex(i[1][0])}\n",
    "  - i10 = {make_usable_hex(i[2][2])}\"\"\")\n",
    "            \n",
    "        i[0][0], i[1][0], i[2][0], i[3][0] = QR(i[0][0], i[1][0], i[2][0], i[3][0])\n",
    "        i[0][1], i[1][1], i[2][1], i[3][1] = QR(i[0][1], i[1][1], i[2][1], i[3][1])\n",
    "        i[0][2], i[1][2], i[2][2], i[3][2] = QR(i[0][2], i[1][2], i[2][2], i[3][2])\n",
    "        i[0][3], i[1][3], i[2][3], i[3][3] = QR(i[0][3], i[1][3], i[2][3], i[3][3])\n",
    "        i[0][0], i[1][1], i[2][2], i[3][3] = QR(i[0][0], i[1][1], i[2][2], i[3][3])\n",
    "        i[0][1], i[1][2], i[2][3], i[3][0] = QR(i[0][1], i[1][2], i[2][3], i[3][0])\n",
    "        i[0][2], i[1][3], i[2][0], i[3][1] = QR(i[0][2], i[1][3], i[2][0], i[3][1])\n",
    "        i[0][3], i[1][0], i[2][1], i[3][2] = QR(i[0][3], i[1][0], i[2][1], i[3][2])\n",
    "        \n",
    "        if (_ == 8):\n",
    "            print(f\"\"\"\\n- Post ronda:\n",
    "  - i5 = {make_usable_hex(i[1][1])}\n",
    "  - i9 = {make_usable_hex(i[2][1])}\n",
    "  - i12 = {make_usable_hex(i[3][0])}\"\"\")\n",
    "        elif (_ == 14):\n",
    "            print(f\"\"\"\\n- Post ronda:\n",
    "  - i3 = {make_usable_hex(i[0][3])}\n",
    "  - i4 = {make_usable_hex(i[1][0])}\n",
    "  - i10 = {make_usable_hex(i[2][2])}\"\"\")\n",
    "\n",
    "    print(\"\\nPermutacion final\")\n",
    "    print(f\"pi = {show_hex(i)}\")\n",
    "    print(f\"pi = {''.join(show_hex(i))}\")\n",
    "    return i    "
   ]
  },
  {
   "cell_type": "code",
   "execution_count": 15,
   "metadata": {},
   "outputs": [
    {
     "name": "stdout",
     "output_type": "stream",
     "text": [
      "Cuando j = 8\n",
      "- Previo ronda:\n",
      "  - i5 = 13c652e6\n",
      "  - i9 = 15732639\n",
      "  - i12 = 6330af8e\n",
      "\n",
      "- Post ronda:\n",
      "  - i5 = 08faf194\n",
      "  - i9 = 176c3b3a\n",
      "  - i12 = 29679af7\n",
      "\n",
      "Cuando j = 14\n",
      "- Previo ronda:\n",
      "  - i3 = 46066eec\n",
      "  - i4 = 62708b02\n",
      "  - i10 = c3dd516d\n",
      "\n",
      "- Post ronda:\n",
      "  - i3 = 5954cc16\n",
      "  - i4 = 56011a67\n",
      "  - i10 = fb08c498\n",
      "\n",
      "Permutacion final\n",
      "pi = ['c9ead123', 'f6eee204', '2ce84421', '28342dcd', 'ddec68c9', '446ec082', 'de92f642', 'f498c0a8', '43d9d8d2', '7c44c2bd', '1945edeb', '3411fa78', 'fffb0e60', '7ec9ec17', 'b7a5cfae', '23663818']\n",
      "pi = c9ead123f6eee2042ce8442128342dcdddec68c9446ec082de92f642f498c0a843d9d8d27c44c2bd1945edeb3411fa78fffb0e607ec9ec17b7a5cfae23663818\n"
     ]
    }
   ],
   "source": [
    "p = pad(s32, j32, n32)\n",
    "pis = pi(p)"
   ]
  }
 ],
 "metadata": {
  "kernelspec": {
   "display_name": "Python 3",
   "language": "python",
   "name": "python3"
  },
  "language_info": {
   "codemirror_mode": {
    "name": "ipython",
    "version": 3
   },
   "file_extension": ".py",
   "mimetype": "text/x-python",
   "name": "python",
   "nbconvert_exporter": "python",
   "pygments_lexer": "ipython3",
   "version": "3.12.0"
  }
 },
 "nbformat": 4,
 "nbformat_minor": 2
}
